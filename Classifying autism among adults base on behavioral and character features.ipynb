{
 "cells": [
  {
   "cell_type": "code",
   "execution_count": 1,
   "metadata": {},
   "outputs": [],
   "source": [
    "import pandas as pd\n",
    "import numpy as np\n",
    "import matplotlib.pyplot as plt\n",
    "from tabulate import tabulate"
   ]
  },
  {
   "cell_type": "markdown",
   "metadata": {},
   "source": [
    "# Screening Autism Based on Behavioral tests from Adults"
   ]
  },
  {
   "cell_type": "markdown",
   "metadata": {},
   "source": [
    "This project examins effectiveness of behavioral screening to detect possible autism cases from adult patients. The dataset contains test results from the 10 differnt behavioral features and 10 individual characteristics that have proved to be effective in detecting the ASD cases. Behavioral and characteristics are indivudally analyzed to compare the effectiveness. "
   ]
  },
  {
   "cell_type": "code",
   "execution_count": 2,
   "metadata": {},
   "outputs": [
    {
     "name": "stdout",
     "output_type": "stream",
     "text": [
      "*******Dataframe Keys*******\n",
      "Index(['id', 'A1_Score', 'A2_Score', 'A3_Score', 'A4_Score', 'A5_Score',\n",
      "       'A6_Score', 'A7_Score', 'A8_Score', 'A9_Score', 'A10_Score', 'age',\n",
      "       'gender', 'ethnicity', 'jundice', 'austim', 'contry_of_res',\n",
      "       'used_app_before', 'result', 'age_desc', 'relation', 'Class/ASD'],\n",
      "      dtype='object')\n",
      "*******Dataframe Shape*******\n",
      "(704, 22)\n",
      "*******Dataframe Head*******\n",
      "   id  A1_Score  A2_Score  A3_Score  A4_Score  A5_Score  A6_Score  A7_Score  \\\n",
      "0   1         1         1         1         1         0         0         1   \n",
      "1   2         1         1         0         1         0         0         0   \n",
      "2   3         1         1         0         1         1         0         1   \n",
      "3   4         1         1         0         1         0         0         1   \n",
      "4   5         1         0         0         0         0         0         0   \n",
      "\n",
      "   A8_Score  A9_Score  ...  gender       ethnicity jundice austim  \\\n",
      "0         1         0  ...       f  White-European      no     no   \n",
      "1         1         0  ...       m          Latino      no    yes   \n",
      "2         1         1  ...       m          Latino     yes    yes   \n",
      "3         1         0  ...       f  White-European      no    yes   \n",
      "4         1         0  ...       f               ?      no     no   \n",
      "\n",
      "   contry_of_res used_app_before result     age_desc  relation Class/ASD  \n",
      "0  United States              no      6  18 and more      Self        NO  \n",
      "1         Brazil              no      5  18 and more      Self        NO  \n",
      "2          Spain              no      8  18 and more    Parent       YES  \n",
      "3  United States              no      6  18 and more      Self        NO  \n",
      "4          Egypt              no      2  18 and more         ?        NO  \n",
      "\n",
      "[5 rows x 22 columns]\n"
     ]
    }
   ],
   "source": [
    "# load data into a dataframe and examin\n",
    "df = pd.read_csv(r'C:\\Users\\HanSoul\\Documents\\analysis\\datas\\Autism_Adult_Data\\Autism_Adult_Data.csv')\n",
    "print(\"*******Dataframe Keys*******\")\n",
    "print(df.keys())\n",
    "print(\"*******Dataframe Shape*******\")\n",
    "print(df.shape)\n",
    "print(\"*******Dataframe Head*******\")\n",
    "print(df.head())\n"
   ]
  },
  {
   "cell_type": "code",
   "execution_count": 3,
   "metadata": {},
   "outputs": [
    {
     "data": {
      "text/plain": [
       "id                           2\n",
       "A1_Score                     1\n",
       "A2_Score                     1\n",
       "A3_Score                     0\n",
       "A4_Score                     1\n",
       "A5_Score                     0\n",
       "A6_Score                     0\n",
       "A7_Score                     0\n",
       "A8_Score                     1\n",
       "A9_Score                     0\n",
       "A10_Score                    1\n",
       "age                         24\n",
       "gender                       m\n",
       "ethnicity               Latino\n",
       "jundice                     no\n",
       "austim                     yes\n",
       "contry_of_res           Brazil\n",
       "used_app_before             no\n",
       "result                       5\n",
       "age_desc           18 and more\n",
       "relation                  Self\n",
       "Class/ASD                   NO\n",
       "Name: 1, dtype: object"
      ]
     },
     "execution_count": 3,
     "metadata": {},
     "output_type": "execute_result"
    }
   ],
   "source": [
    "df.loc[1,]"
   ]
  },
  {
   "cell_type": "markdown",
   "metadata": {},
   "source": [
    "There are several features that appears to be irrelevant. age_desc looks like a pure description and result looks like sum of all the test scores. "
   ]
  },
  {
   "cell_type": "code",
   "execution_count": 4,
   "metadata": {},
   "outputs": [
    {
     "data": {
      "text/plain": [
       "0      18 and more\n",
       "1      18 and more\n",
       "2      18 and more\n",
       "3      18 and more\n",
       "4      18 and more\n",
       "          ...     \n",
       "699    18 and more\n",
       "700    18 and more\n",
       "701    18 and more\n",
       "702    18 and more\n",
       "703    18 and more\n",
       "Name: age_desc, Length: 704, dtype: category\n",
       "Categories (1, object): ['18 and more']"
      ]
     },
     "execution_count": 4,
     "metadata": {},
     "output_type": "execute_result"
    }
   ],
   "source": [
    "df['age_desc'].astype(\"category\")"
   ]
  },
  {
   "cell_type": "code",
   "execution_count": 5,
   "metadata": {},
   "outputs": [
    {
     "name": "stdout",
     "output_type": "stream",
     "text": [
      "result column is the sum of test scores\n"
     ]
    }
   ],
   "source": [
    "result_loc = df.columns.get_loc(\"result\")\n",
    "result_diff = 0  \n",
    "for i in range(0, 703):\n",
    "    val_sum = 0\n",
    "    for j in range(1,10,1):\n",
    "        val = df.iloc[i,j]\n",
    "        val_sum = val_sum + val\n",
    "    val_result = df.iloc[i,result_loc]    \n",
    "    \n",
    "    if val_result is val_sum:\n",
    "        continue\n",
    "    else:\n",
    "        val_sum = val_sum + 1\n",
    "        \n",
    "if result_diff is 0:\n",
    "    print('result column is the sum of test scores')\n",
    "else:\n",
    "    print('result column is not the sum of test scores: ')\n",
    "    print(result_diff)"
   ]
  },
  {
   "cell_type": "markdown",
   "metadata": {},
   "source": [
    "Turns out age_desc column contains a same value and result is merely a sum of the test scores. They are dropped from the dataframe to prepare the test and training dataset for now. result might later be examined. "
   ]
  },
  {
   "cell_type": "code",
   "execution_count": 6,
   "metadata": {},
   "outputs": [],
   "source": [
    "df = df.drop(['age_desc', 'result'], axis = 1)"
   ]
  },
  {
   "cell_type": "code",
   "execution_count": 24,
   "metadata": {
    "scrolled": false
   },
   "outputs": [
    {
     "name": "stdout",
     "output_type": "stream",
     "text": [
      "Index(['id', 'A1_Score', 'A2_Score', 'A3_Score', 'A4_Score', 'A5_Score',\n",
      "       'A6_Score', 'A7_Score', 'A8_Score', 'A9_Score', 'A10_Score', 'age',\n",
      "       'gender', 'ethnicity', 'jundice', 'austim', 'contry_of_res',\n",
      "       'used_app_before', 'relation', 'Class/ASD'],\n",
      "      dtype='object')\n",
      "*****************\n",
      "id\n",
      "1      1\n",
      "2      1\n",
      "465    1\n",
      "466    1\n",
      "467    1\n",
      "      ..\n",
      "237    1\n",
      "238    1\n",
      "239    1\n",
      "240    1\n",
      "704    1\n",
      "Name: id, Length: 704, dtype: int64\n",
      "*****************\n",
      "A1_Score\n",
      "1    508\n",
      "0    196\n",
      "Name: A1_Score, dtype: int64\n",
      "*****************\n",
      "A2_Score\n",
      "0    385\n",
      "1    319\n",
      "Name: A2_Score, dtype: int64\n",
      "*****************\n",
      "A3_Score\n",
      "0    382\n",
      "1    322\n",
      "Name: A3_Score, dtype: int64\n",
      "*****************\n",
      "A4_Score\n",
      "0    355\n",
      "1    349\n",
      "Name: A4_Score, dtype: int64\n",
      "*****************\n",
      "A5_Score\n",
      "0    353\n",
      "1    351\n",
      "Name: A5_Score, dtype: int64\n",
      "*****************\n",
      "A6_Score\n",
      "0    504\n",
      "1    200\n",
      "Name: A6_Score, dtype: int64\n",
      "*****************\n",
      "A7_Score\n",
      "0    410\n",
      "1    294\n",
      "Name: A7_Score, dtype: int64\n",
      "*****************\n",
      "A8_Score\n",
      "1    457\n",
      "0    247\n",
      "Name: A8_Score, dtype: int64\n",
      "*****************\n",
      "A9_Score\n",
      "0    476\n",
      "1    228\n",
      "Name: A9_Score, dtype: int64\n",
      "*****************\n",
      "A10_Score\n",
      "1    404\n",
      "0    300\n",
      "Name: A10_Score, dtype: int64\n",
      "*****************\n",
      "age\n",
      "21     49\n",
      "20     46\n",
      "23     37\n",
      "22     37\n",
      "19     35\n",
      "24     34\n",
      "27     31\n",
      "18     31\n",
      "30     30\n",
      "26     28\n",
      "25     27\n",
      "29     27\n",
      "28     24\n",
      "31     21\n",
      "32     18\n",
      "17     18\n",
      "35     17\n",
      "37     17\n",
      "33     16\n",
      "40     16\n",
      "42     15\n",
      "36     13\n",
      "38     12\n",
      "34     12\n",
      "43     11\n",
      "44     10\n",
      "47      8\n",
      "39      7\n",
      "55      6\n",
      "53      6\n",
      "46      6\n",
      "50      5\n",
      "52      5\n",
      "45      4\n",
      "48      4\n",
      "41      3\n",
      "49      3\n",
      "61      2\n",
      "56      2\n",
      "58      2\n",
      "?       2\n",
      "54      2\n",
      "59      1\n",
      "64      1\n",
      "383     1\n",
      "51      1\n",
      "60      1\n",
      "Name: age, dtype: int64\n",
      "*****************\n",
      "gender\n",
      "m    367\n",
      "f    337\n",
      "Name: gender, dtype: int64\n",
      "*****************\n",
      "ethnicity\n",
      "White-European     233\n",
      "Asian              123\n",
      "?                   95\n",
      "Middle Eastern      92\n",
      "Black               43\n",
      "South Asian         36\n",
      "Others              30\n",
      "Latino              20\n",
      "Hispanic            13\n",
      "Pasifika            12\n",
      "Turkish              6\n",
      "others               1\n",
      "Name: ethnicity, dtype: int64\n",
      "*****************\n",
      "jundice\n",
      "no     635\n",
      "yes     69\n",
      "Name: jundice, dtype: int64\n",
      "*****************\n",
      "austim\n",
      "no     613\n",
      "yes     91\n",
      "Name: austim, dtype: int64\n",
      "*****************\n",
      "contry_of_res\n",
      "United States           113\n",
      "United Arab Emirates     82\n",
      "India                    81\n",
      "New Zealand              81\n",
      "United Kingdom           77\n",
      "                       ... \n",
      "Bolivia                   1\n",
      "Nepal                     1\n",
      "Sierra Leone              1\n",
      "Tonga                     1\n",
      "Uruguay                   1\n",
      "Name: contry_of_res, Length: 67, dtype: int64\n",
      "*****************\n",
      "used_app_before\n",
      "no     692\n",
      "yes     12\n",
      "Name: used_app_before, dtype: int64\n",
      "*****************\n",
      "relation\n",
      "Self                        522\n",
      "?                            95\n",
      "Parent                       50\n",
      "Relative                     28\n",
      "Others                        5\n",
      "Health care professional      4\n",
      "Name: relation, dtype: int64\n",
      "*****************\n",
      "Class/ASD\n",
      "NO     515\n",
      "YES    189\n",
      "Name: Class/ASD, dtype: int64\n"
     ]
    }
   ],
   "source": [
    "col_names = df.keys()\n",
    "print(col_names)\n",
    "for i in col_names:\n",
    "    print(\"*****************\")\n",
    "    print(i)\n",
    "    print(df[i].value_counts())\n"
   ]
  },
  {
   "cell_type": "markdown",
   "metadata": {},
   "source": [
    "Seems like there are some missing values in age, ethnicity, and relation column. Unlike other columns age is a quantitative column. We will examin those 2 rows with the missing age values and remove if needed."
   ]
  },
  {
   "cell_type": "code",
   "execution_count": 31,
   "metadata": {},
   "outputs": [
    {
     "data": {
      "text/html": [
       "<div>\n",
       "<style scoped>\n",
       "    .dataframe tbody tr th:only-of-type {\n",
       "        vertical-align: middle;\n",
       "    }\n",
       "\n",
       "    .dataframe tbody tr th {\n",
       "        vertical-align: top;\n",
       "    }\n",
       "\n",
       "    .dataframe thead th {\n",
       "        text-align: right;\n",
       "    }\n",
       "</style>\n",
       "<table border=\"1\" class=\"dataframe\">\n",
       "  <thead>\n",
       "    <tr style=\"text-align: right;\">\n",
       "      <th></th>\n",
       "      <th>id</th>\n",
       "      <th>A1_Score</th>\n",
       "      <th>A2_Score</th>\n",
       "      <th>A3_Score</th>\n",
       "      <th>A4_Score</th>\n",
       "      <th>A5_Score</th>\n",
       "      <th>A6_Score</th>\n",
       "      <th>A7_Score</th>\n",
       "      <th>A8_Score</th>\n",
       "      <th>A9_Score</th>\n",
       "      <th>A10_Score</th>\n",
       "      <th>age</th>\n",
       "      <th>gender</th>\n",
       "      <th>ethnicity</th>\n",
       "      <th>jundice</th>\n",
       "      <th>austim</th>\n",
       "      <th>contry_of_res</th>\n",
       "      <th>used_app_before</th>\n",
       "      <th>relation</th>\n",
       "      <th>Class/ASD</th>\n",
       "    </tr>\n",
       "  </thead>\n",
       "  <tbody>\n",
       "    <tr>\n",
       "      <th>62</th>\n",
       "      <td>63</td>\n",
       "      <td>0</td>\n",
       "      <td>0</td>\n",
       "      <td>0</td>\n",
       "      <td>0</td>\n",
       "      <td>0</td>\n",
       "      <td>0</td>\n",
       "      <td>0</td>\n",
       "      <td>0</td>\n",
       "      <td>0</td>\n",
       "      <td>0</td>\n",
       "      <td>?</td>\n",
       "      <td>m</td>\n",
       "      <td>?</td>\n",
       "      <td>no</td>\n",
       "      <td>no</td>\n",
       "      <td>Saudi Arabia</td>\n",
       "      <td>no</td>\n",
       "      <td>?</td>\n",
       "      <td>NO</td>\n",
       "    </tr>\n",
       "    <tr>\n",
       "      <th>91</th>\n",
       "      <td>92</td>\n",
       "      <td>0</td>\n",
       "      <td>1</td>\n",
       "      <td>0</td>\n",
       "      <td>0</td>\n",
       "      <td>1</td>\n",
       "      <td>0</td>\n",
       "      <td>1</td>\n",
       "      <td>0</td>\n",
       "      <td>0</td>\n",
       "      <td>1</td>\n",
       "      <td>?</td>\n",
       "      <td>f</td>\n",
       "      <td>?</td>\n",
       "      <td>no</td>\n",
       "      <td>no</td>\n",
       "      <td>Jordan</td>\n",
       "      <td>no</td>\n",
       "      <td>?</td>\n",
       "      <td>NO</td>\n",
       "    </tr>\n",
       "  </tbody>\n",
       "</table>\n",
       "</div>"
      ],
      "text/plain": [
       "    id  A1_Score  A2_Score  A3_Score  A4_Score  A5_Score  A6_Score  A7_Score  \\\n",
       "62  63         0         0         0         0         0         0         0   \n",
       "91  92         0         1         0         0         1         0         1   \n",
       "\n",
       "    A8_Score  A9_Score  A10_Score age gender ethnicity jundice austim  \\\n",
       "62         0         0          0   ?      m         ?      no     no   \n",
       "91         0         0          1   ?      f         ?      no     no   \n",
       "\n",
       "   contry_of_res used_app_before relation Class/ASD  \n",
       "62  Saudi Arabia              no        ?        NO  \n",
       "91        Jordan              no        ?        NO  "
      ]
     },
     "execution_count": 31,
     "metadata": {},
     "output_type": "execute_result"
    }
   ],
   "source": [
    "df.loc[df['age'] == '?']\n"
   ]
  },
  {
   "cell_type": "code",
   "execution_count": 37,
   "metadata": {},
   "outputs": [
    {
     "data": {
      "text/plain": [
       "4      ?\n",
       "12     ?\n",
       "13     ?\n",
       "14     ?\n",
       "19     ?\n",
       "      ..\n",
       "652    ?\n",
       "658    ?\n",
       "659    ?\n",
       "666    ?\n",
       "701    ?\n",
       "Name: relation, Length: 95, dtype: category\n",
       "Categories (1, object): ['?']"
      ]
     },
     "execution_count": 37,
     "metadata": {},
     "output_type": "execute_result"
    }
   ],
   "source": [
    "df_eth_miss = df.loc[df['ethnicity'] == '?']\n",
    "df_eth_miss['relation'].astype(\"category\")\n"
   ]
  },
  {
   "cell_type": "markdown",
   "metadata": {},
   "source": [
    "The rows with missing age values are missing both ethnicity and relation values. Rows with missing ethinicity values are also missing relation values. Since the test and character variables will split into seperate dataframes, the rows with missing values will be removed from the character dataframe. "
   ]
  },
  {
   "cell_type": "code",
   "execution_count": 48,
   "metadata": {
    "scrolled": true
   },
   "outputs": [
    {
     "name": "stdout",
     "output_type": "stream",
     "text": [
      "Index(['age', 'gender', 'ethnicity', 'jundice', 'austim', 'contry_of_res',\n",
      "       'used_app_before', 'relation', 'Class/ASD'],\n",
      "      dtype='object')\n",
      "*****************\n",
      "age\n",
      "23     33\n",
      "22     33\n",
      "21     32\n",
      "18     31\n",
      "20     31\n",
      "24     31\n",
      "27     29\n",
      "30     27\n",
      "29     26\n",
      "25     26\n",
      "26     25\n",
      "19     24\n",
      "28     22\n",
      "31     19\n",
      "35     17\n",
      "40     15\n",
      "37     15\n",
      "42     15\n",
      "33     15\n",
      "17     14\n",
      "32     14\n",
      "36     13\n",
      "34     11\n",
      "38     11\n",
      "43      9\n",
      "44      9\n",
      "39      7\n",
      "53      6\n",
      "47      6\n",
      "55      6\n",
      "46      6\n",
      "50      4\n",
      "48      4\n",
      "49      3\n",
      "52      3\n",
      "45      3\n",
      "54      2\n",
      "61      2\n",
      "41      2\n",
      "58      2\n",
      "383     1\n",
      "59      1\n",
      "64      1\n",
      "51      1\n",
      "56      1\n",
      "60      1\n",
      "Name: age, dtype: int64\n",
      "*****************\n",
      "gender\n",
      "m    321\n",
      "f    288\n",
      "Name: gender, dtype: int64\n",
      "*****************\n",
      "ethnicity\n",
      "White-European     233\n",
      "Asian              123\n",
      "Middle Eastern      92\n",
      "Black               43\n",
      "South Asian         36\n",
      "Others              30\n",
      "Latino              20\n",
      "Hispanic            13\n",
      "Pasifika            12\n",
      "Turkish              6\n",
      "others               1\n",
      "Name: ethnicity, dtype: int64\n",
      "*****************\n",
      "jundice\n",
      "no     550\n",
      "yes     59\n",
      "Name: jundice, dtype: int64\n",
      "*****************\n",
      "austim\n",
      "no     524\n",
      "yes     85\n",
      "Name: austim, dtype: int64\n",
      "*****************\n",
      "contry_of_res\n",
      "United States           112\n",
      "India                    81\n",
      "United Kingdom           76\n",
      "New Zealand              76\n",
      "United Arab Emirates     67\n",
      "Australia                27\n",
      "Canada                   15\n",
      "Sri Lanka                14\n",
      "France                   11\n",
      "Netherlands              10\n",
      "Afghanistan              10\n",
      "Mexico                    8\n",
      "Brazil                    8\n",
      "Viet Nam                  5\n",
      "Ireland                   5\n",
      "Malaysia                  5\n",
      "Italy                     5\n",
      "Jordan                    5\n",
      "Philippines               4\n",
      "Germany                   4\n",
      "Belgium                   3\n",
      "Romania                   3\n",
      "Spain                     3\n",
      "Bangladesh                3\n",
      "Austria                   3\n",
      "Egypt                     2\n",
      "Pakistan                  2\n",
      "Armenia                   2\n",
      "Sweden                    2\n",
      "AmericanSamoa             2\n",
      "Ethiopia                  2\n",
      "South Africa              2\n",
      "Russia                    2\n",
      "Iceland                   2\n",
      "Saudi Arabia              2\n",
      "Iran                      2\n",
      "Bolivia                   1\n",
      "Cyprus                    1\n",
      "Costa Rica                1\n",
      "Serbia                    1\n",
      "Aruba                     1\n",
      "Turkey                    1\n",
      "Ecuador                   1\n",
      "Niger                     1\n",
      "Czech Republic            1\n",
      "Oman                      1\n",
      "Chile                     1\n",
      "Nicaragua                 1\n",
      "Bahamas                   1\n",
      "Angola                    1\n",
      "Ukraine                   1\n",
      "Indonesia                 1\n",
      "Burundi                   1\n",
      "Portugal                  1\n",
      "Finland                   1\n",
      "Sierra Leone              1\n",
      "Tonga                     1\n",
      "Nepal                     1\n",
      "China                     1\n",
      "Uruguay                   1\n",
      "Name: contry_of_res, dtype: int64\n",
      "*****************\n",
      "used_app_before\n",
      "no     599\n",
      "yes     10\n",
      "Name: used_app_before, dtype: int64\n",
      "*****************\n",
      "relation\n",
      "Self                        522\n",
      "Parent                       50\n",
      "Relative                     28\n",
      "Others                        5\n",
      "Health care professional      4\n",
      "Name: relation, dtype: int64\n",
      "*****************\n",
      "Class/ASD\n",
      "NO     429\n",
      "YES    180\n",
      "Name: Class/ASD, dtype: int64\n"
     ]
    }
   ],
   "source": [
    "df_tests = df[['A1_Score', \n",
    "            'A2_Score', \n",
    "            'A3_Score', \n",
    "            'A4_Score', \n",
    "            'A5_Score',\n",
    "            'A6_Score', \n",
    "            'A7_Score', \n",
    "            'A8_Score', \n",
    "            'A9_Score', \n",
    "            'A10_Score', \n",
    "            'Class/ASD']]\n",
    "\n",
    "df_characters = df[['age',\n",
    "                'gender', \n",
    "                'ethnicity', \n",
    "                'jundice', \n",
    "                'austim', \n",
    "                'contry_of_res',\n",
    "                'used_app_before', \n",
    "                'relation',\n",
    "                'Class/ASD']]\n",
    "\n",
    "\n",
    "\n",
    "df_characters = df_characters[df_characters.ethnicity != '?'] \n",
    "\n",
    "col_names = df_characters.keys()\n",
    "print(col_names)\n",
    "for i in col_names:\n",
    "    print(\"*****************\")\n",
    "    print(i)\n",
    "    print(df_characters[i].value_counts())\n",
    "    "
   ]
  },
  {
   "cell_type": "markdown",
   "metadata": {},
   "source": [
    "The missing values have been removed from df_character. Data cleaning is now complete. "
   ]
  },
  {
   "cell_type": "markdown",
   "metadata": {},
   "source": [
    "# Classification using KNeighborsClassifier"
   ]
  },
  {
   "cell_type": "code",
   "execution_count": 49,
   "metadata": {},
   "outputs": [],
   "source": [
    "from sklearn.model_selection import train_test_split\n",
    "from sklearn.neighbors import KNeighborsClassifier"
   ]
  },
  {
   "cell_type": "markdown",
   "metadata": {},
   "source": [
    "## Could behavioral traits detect autism?"
   ]
  },
  {
   "cell_type": "code",
   "execution_count": 61,
   "metadata": {},
   "outputs": [
    {
     "name": "stdout",
     "output_type": "stream",
     "text": [
      "(704,)\n",
      "(704, 10)\n"
     ]
    },
    {
     "data": {
      "image/png": "[encoded data removed]",
      "text/plain": [
       "<Figure size 432x288 with 1 Axes>"
      ]
     },
     "metadata": {
      "needs_background": "light"
     },
     "output_type": "display_data"
    }
   ],
   "source": [
    "y = df_tests['Class/ASD']\n",
    "X = df_tests.drop(['Class/ASD'], axis = 1)\n",
    "\n",
    "print(y.shape)\n",
    "print(X.shape)\n",
    "\n",
    "X_train, X_test, y_train, y_test = train_test_split(X, y, test_size=0.3, random_state=1)\n",
    "\n",
    "neighbors = np.arange(1, 100)\n",
    "train_accuracy = np.empty(len(neighbors))\n",
    "test_accuracy = np.empty(len(neighbors))\n",
    "\n",
    "\n",
    "# Loop over different values of k\n",
    "for i, k in enumerate(neighbors):\n",
    "    # Setup a k-NN Classifier with k neighbors: knn\n",
    "    knn = KNeighborsClassifier(n_neighbors = k)\n",
    "\n",
    "    # Fit the classifier to the training data\n",
    "    knn.fit(X_train, y_train)\n",
    "    \n",
    "    #Compute accuracy on the training set\n",
    "    train_accuracy[i] = knn.score(X_train, y_train)\n",
    "\n",
    "    #Compute accuracy on the testing set\n",
    "    test_accuracy[i] = knn.score(X_test, y_test)\n",
    "\n",
    "# Generate plot\n",
    "plt.title('k-NN: Varying Number of Neighbors')\n",
    "plt.plot(neighbors, test_accuracy, label = 'Testing Accuracy')\n",
    "plt.plot(neighbors, train_accuracy, label = 'Training Accuracy')\n",
    "plt.legend()\n",
    "plt.xlabel('Number of Neighbors')\n",
    "plt.ylabel('Accuracy')\n",
    "plt.show()"
   ]
  },
  {
   "cell_type": "markdown",
   "metadata": {},
   "source": [
    "Turns out behavioral traits can be 99 percent accurate at predicting autism from adults. Could characteristics result in comparable prediction?"
   ]
  },
  {
   "cell_type": "markdown",
   "metadata": {},
   "source": [
    "## Could character traits detect autism?"
   ]
  },
  {
   "cell_type": "code",
   "execution_count": 69,
   "metadata": {},
   "outputs": [
    {
     "name": "stdout",
     "output_type": "stream",
     "text": [
      "(609,)\n",
      "(609, 8)\n"
     ]
    },
    {
     "data": {
      "image/png": "[encoded data removed]",
      "text/plain": [
       "<Figure size 432x288 with 1 Axes>"
      ]
     },
     "metadata": {
      "needs_background": "light"
     },
     "output_type": "display_data"
    }
   ],
   "source": [
    "from sklearn import preprocessing\n",
    "\n",
    "y = df_characters['Class/ASD']\n",
    "X = df_characters.drop(['Class/ASD'], axis = 1)\n",
    "\n",
    "# Categorial features need to be converted into integers to use KNeighborsClassifier\n",
    "# Create an instance of LabelEncoder\n",
    "\n",
    "le = preprocessing.LabelEncoder()\n",
    "\n",
    "col_names = X.keys()\n",
    "for i in col_names:\n",
    "    if i is 'age':\n",
    "        continue\n",
    "    else:\n",
    "        X[i]= le.fit_transform(X[i])\n",
    "\n",
    "        \n",
    "print(y.shape)\n",
    "print(X.shape)\n",
    "\n",
    "X_train, X_test, y_train, y_test = train_test_split(X, y, test_size=0.3, random_state=1)\n",
    "\n",
    "neighbors = np.arange(1, 100)\n",
    "train_accuracy = np.empty(len(neighbors))\n",
    "test_accuracy = np.empty(len(neighbors))\n",
    "\n",
    "\n",
    "# Loop over different values of k\n",
    "for i, k in enumerate(neighbors):\n",
    "    # Setup a k-NN Classifier with k neighbors: knn\n",
    "    knn = KNeighborsClassifier(n_neighbors = k)\n",
    "\n",
    "    # Fit the classifier to the training data\n",
    "    knn.fit(X_train, y_train)\n",
    "    \n",
    "    #Compute accuracy on the training set\n",
    "    train_accuracy[i] = knn.score(X_train, y_train)\n",
    "\n",
    "    #Compute accuracy on the testing set\n",
    "    test_accuracy[i] = knn.score(X_test, y_test)\n",
    "\n",
    "# Generate plot\n",
    "plt.title('k-NN: Varying Number of Neighbors')\n",
    "plt.plot(neighbors, test_accuracy, label = 'Testing Accuracy')\n",
    "plt.plot(neighbors, train_accuracy, label = 'Training Accuracy')\n",
    "plt.legend()\n",
    "plt.xlabel('Number of Neighbors')\n",
    "plt.ylabel('Accuracy')\n",
    "plt.show()"
   ]
  },
  {
   "cell_type": "markdown",
   "metadata": {},
   "source": [
    "Unlike the behavioral trail the characteristics can predict autism approximately upto 65 percent. Therefore, behavioral traits are suprior features to detecting autism."
   ]
  },
  {
   "cell_type": "code",
   "execution_count": null,
   "metadata": {},
   "outputs": [],
   "source": [
    "df_age=df['age']\n",
    "df_age = pd.to_numeric(df_age[df_age.str.isnumeric()])\n",
    "plt.hist(df_age, 50)\n",
    "df_age.describe()"
   ]
  },
  {
   "cell_type": "code",
   "execution_count": null,
   "metadata": {},
   "outputs": [],
   "source": [
    "df_age= df_age.drop(df_age[df_age> 100].index)\n",
    "plt.title(\"Age\")\n",
    "plt.hist(df_age)\n",
    "df_age.describe()\n"
   ]
  },
  {
   "cell_type": "code",
   "execution_count": null,
   "metadata": {},
   "outputs": [],
   "source": [
    "df_eth = df['ethnicity'].astype(\"category\")\n",
    "ax = df_eth.value_counts().plot(kind = 'bar', title = \"Ethnicity\")\n"
   ]
  },
  {
   "cell_type": "code",
   "execution_count": null,
   "metadata": {},
   "outputs": [],
   "source": [
    "df_gen= df['gender'].astype(\"category\")\n",
    "ax = df_gen.value_counts().plot(kind = 'bar', title = \"Gender\")"
   ]
  },
  {
   "cell_type": "code",
   "execution_count": null,
   "metadata": {},
   "outputs": [],
   "source": [
    "df_aus=df['Class/ASD']\n",
    "ax = df_aus.value_counts().plot(kind = 'bar', title = \"Autism\")"
   ]
  },
  {
   "cell_type": "code",
   "execution_count": null,
   "metadata": {},
   "outputs": [],
   "source": [
    "# Could test scores predict autism?\n",
    "\n",
    "from sklearn.model_selection import train_test_split\n",
    "from sklearn.neighbors import KNeighborsClassifier\n",
    "y = df['Class/ASD']\n",
    "X = df[['A1_Score', 'A2_Score', 'A3_Score', 'A4_Score', 'A5_Score',\n",
    "       'A6_Score', 'A7_Score', 'A8_Score', 'A9_Score', 'A10_Score', 'age',\n",
    "       'gender', 'ethnicity', 'jundice', 'austim', 'contry_of_res',\n",
    "       'used_app_before', 'result', 'age_desc', 'relation', 'Class/ASD']]\n",
    "print(y.shape)\n",
    "print(X.shape)\n",
    "\n",
    "X_train_all, X_test_all, y_train, y_test = train_test_split(X, y, test_size=0.3, random_state=1)\n",
    "\n",
    "X_train = X_train_all[['A1_Score', 'A2_Score', 'A3_Score', 'A4_Score', 'A5_Score',\n",
    "       'A6_Score', 'A7_Score', 'A8_Score', 'A9_Score', 'A10_Score']]\n",
    "X_test = X_test_all[['A1_Score', 'A2_Score', 'A3_Score', 'A4_Score', 'A5_Score',\n",
    "       'A6_Score', 'A7_Score', 'A8_Score', 'A9_Score', 'A10_Score']]\n",
    "\n"
   ]
  },
  {
   "cell_type": "code",
   "execution_count": null,
   "metadata": {},
   "outputs": [],
   "source": [
    "neighbors = np.arange(1, 100)\n",
    "train_accuracy = np.empty(len(neighbors))\n",
    "test_accuracy = np.empty(len(neighbors))\n",
    "\n",
    "\n",
    "# Loop over different values of k\n",
    "for i, k in enumerate(neighbors):\n",
    "    # Setup a k-NN Classifier with k neighbors: knn\n",
    "    knn = KNeighborsClassifier(n_neighbors = k)\n",
    "\n",
    "    # Fit the classifier to the training data\n",
    "    knn.fit(X_train, y_train)\n",
    "    \n",
    "    #Compute accuracy on the training set\n",
    "    train_accuracy[i] = knn.score(X_train, y_train)\n",
    "\n",
    "    #Compute accuracy on the testing set\n",
    "    test_accuracy[i] = knn.score(X_test, y_test)\n",
    "\n",
    "# Generate plot\n",
    "plt.title('k-NN: Varying Number of Neighbors')\n",
    "plt.plot(neighbors, test_accuracy, label = 'Testing Accuracy')\n",
    "plt.plot(neighbors, train_accuracy, label = 'Training Accuracy')\n",
    "plt.legend()\n",
    "plt.xlabel('Number of Neighbors')\n",
    "plt.ylabel('Accuracy')\n",
    "plt.show()"
   ]
  },
  {
   "cell_type": "code",
   "execution_count": null,
   "metadata": {},
   "outputs": [],
   "source": [
    "knn = KNeighborsClassifier(n_neighbors = 25)\n",
    "knn.fit(X_train, y_train)\n",
    "knn.score(X_test, y_test)"
   ]
  },
  {
   "cell_type": "code",
   "execution_count": null,
   "metadata": {},
   "outputs": [],
   "source": [
    "df_train_age = X_train_all['age']\n",
    "df_train_age = pd.to_numeric(df_train_age[df_train_age.str.isnumeric()])\n",
    "df_train_age = df_train_age.drop(df_train_age[df_train_age> 100].index)\n",
    "\n",
    "plt.title(\"Training data: Age\")\n",
    "plt.hist(df_train_age, 50)\n",
    "df_train_age.describe()\n"
   ]
  },
  {
   "cell_type": "code",
   "execution_count": null,
   "metadata": {},
   "outputs": [],
   "source": [
    "df_test_age = X_test_all['age']\n",
    "df_test_age = pd.to_numeric(df_test_age[df_test_age.str.isnumeric()])\n",
    "df_test_age = df_test_age.drop(df_test_age[df_test_age> 100].index)\n",
    "\n",
    "plt.title(\"Testing data: Age\")\n",
    "plt.hist(df_test_age, 50)\n",
    "df_test_age.describe()"
   ]
  },
  {
   "cell_type": "code",
   "execution_count": null,
   "metadata": {},
   "outputs": [],
   "source": [
    "df_train_eth =  X_train_all['ethnicity'].astype(\"category\")\n",
    "ax = df_train_eth.value_counts().plot(kind = 'bar', title = \"Train Ethnicity\")"
   ]
  },
  {
   "cell_type": "code",
   "execution_count": null,
   "metadata": {},
   "outputs": [],
   "source": [
    "df_test_eth =  X_test_all['ethnicity'].astype(\"category\")\n",
    "ax = df_test_eth.value_counts().plot(kind = 'bar', title = \"Test Ethnicity\")"
   ]
  },
  {
   "cell_type": "code",
   "execution_count": null,
   "metadata": {},
   "outputs": [],
   "source": [
    "df_train_gen =  X_train_all['gender'].astype(\"category\")\n",
    "ax = df_train_gen.value_counts().plot(kind = 'bar', title = \"Train Gender\")"
   ]
  },
  {
   "cell_type": "code",
   "execution_count": null,
   "metadata": {},
   "outputs": [],
   "source": [
    "df_test_gen =  X_test_all['gender'].astype(\"category\")\n",
    "ax = df_test_gen.value_counts().plot(kind = 'bar', title = \"Test Gender\")"
   ]
  },
  {
   "cell_type": "code",
   "execution_count": null,
   "metadata": {},
   "outputs": [],
   "source": [
    "df_train_aus =  X_train_all['Class/ASD'].astype(\"category\")\n",
    "df_test_aus =  X_test_all['Class/ASD'].astype(\"category\")\n"
   ]
  },
  {
   "cell_type": "code",
   "execution_count": null,
   "metadata": {},
   "outputs": [],
   "source": [
    "ax = df_train_aus.value_counts().plot(kind = 'bar', title = \"Train Autism\")"
   ]
  },
  {
   "cell_type": "code",
   "execution_count": null,
   "metadata": {},
   "outputs": [],
   "source": [
    "ax = df_test_aus.value_counts().plot(kind = 'bar', title = \"Test Autism\")"
   ]
  },
  {
   "cell_type": "code",
   "execution_count": null,
   "metadata": {},
   "outputs": [],
   "source": []
  }
 ],
 "metadata": {
  "kernelspec": {
   "display_name": "Python 3",
   "language": "python",
   "name": "python3"
  },
  "language_info": {
   "codemirror_mode": {
    "name": "ipython",
    "version": 3
   },
   "file_extension": ".py",
   "mimetype": "text/x-python",
   "name": "python",
   "nbconvert_exporter": "python",
   "pygments_lexer": "ipython3",
   "version": "3.7.1"
  }
 },
 "nbformat": 4,
 "nbformat_minor": 4
}
